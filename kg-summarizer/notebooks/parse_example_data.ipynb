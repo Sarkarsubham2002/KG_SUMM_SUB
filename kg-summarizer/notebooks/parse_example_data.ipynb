{
 "cells": [
  {
   "cell_type": "code",
   "execution_count": 1,
   "metadata": {},
   "outputs": [],
   "source": [
    "%load_ext autoreload\n",
    "%autoreload 2"
   ]
  },
  {
   "cell_type": "code",
   "execution_count": 3,
   "metadata": {},
   "outputs": [
    {
     "name": "stdout",
     "output_type": "stream",
     "text": [
      "dict_keys(['id', 'source', 'target', 'predicate', 'attributes', 'index', 'numEdges', 'strokeWidth'])\n"
     ]
    }
   ],
   "source": [
    "def load_example(example_path):\n",
    "    import json\n",
    "\n",
    "    with open(example_path) as f:\n",
    "        return json.load(f)\n",
    "    \n",
    "from pathlib import Path\n",
    "\n",
    "paths = dict(\n",
    "    data=Path(r'C:\\Users\\richa\\repos\\kg-summarizer\\data')\n",
    ")\n",
    "\n",
    "data = load_example(paths['data'] / 'edge.json')\n",
    "print(data.keys())"
   ]
  },
  {
   "cell_type": "code",
   "execution_count": 8,
   "metadata": {},
   "outputs": [
    {
     "data": {
      "text/plain": [
       "{'subject': 'Creatine',\n",
       " 'object': 'Huntington disease',\n",
       " 'predicate': 'treats',\n",
       " 'publications': [{'PMID:14557561': \"OBJECTIVE: To evaluate the effect of creatine (Cr) supplementation (5 g/day) in Huntington's disease (HD). METHODS: A 1-year double-blind placebo-controlled study was performed in 41 patients with HD (stage I through III). At baseline and after 6 and 12 months, the functional, neuromuscular, and cognitive status of the patients was assessed by a test battery that consisted of 1) the Unified Huntington's Disease Rating Scale (UHDRS), 2) an exercise test on an isokinetic dynamometer to assess strength of the elbow flexor muscles, 3) a maximal exercise test on a bicycle ergometer to evaluate cardiorespiratory fitness, and 4) a test to assess bimanual coordination ability. Following the baseline measurements, the subjects were assigned to either a creatine (n = 26) or a placebo group (n = 15). RESULTS: Scores on the functional checklist of the UHDRS (p < 0.05), maximal static torque (p < 0.05), and peak oxygen uptake (p < 0.05) decreased from the start to the end of the study, independent of the treatment received. Cognitive functioning, bimanual coordination ability, and general motor function (total motor scale, UHDRS) did not change from baseline to 1 year in either group. CONCLUSION: One year of Cr intake, at a rate that can improve muscle functional capacity in healthy subjects and patients with neuromuscular disease (5 g/day), did not improve functional, neuromuscular, and cognitive status in patients with stage I to III HD.\"}]}"
      ]
     },
     "execution_count": 8,
     "metadata": {},
     "output_type": "execute_result"
    }
   ],
   "source": [
    "from kg_summarizer.trapi import parse_edge_attributes\n",
    "\n",
    "def parse_edge(edge_data):\n",
    "    parsed_data = dict(\n",
    "        subject=data['source']['name'],\n",
    "        object=data['target']['name'],\n",
    "        predicate=data['predicate'].split(':')[1]\n",
    "    )\n",
    "\n",
    "    edge_attr_data = parse_edge_attributes(data['attributes'])\n",
    "\n",
    "    return {**parsed_data, **edge_attr_data}\n",
    "\n",
    "edge = parse_edge(data)\n",
    "edge"
   ]
  },
  {
   "cell_type": "code",
   "execution_count": 9,
   "metadata": {},
   "outputs": [
    {
     "data": {
      "text/plain": [
       "'Creatine treats Huntington disease.'"
      ]
     },
     "execution_count": 9,
     "metadata": {},
     "output_type": "execute_result"
    }
   ],
   "source": [
    "spo_sentence = f\"{edge['subject']} {edge['predicate']} {edge['object']}.\"\n",
    "spo_sentence"
   ]
  }
 ],
 "metadata": {
  "kernelspec": {
   "display_name": "renci",
   "language": "python",
   "name": "python3"
  },
  "language_info": {
   "codemirror_mode": {
    "name": "ipython",
    "version": 3
   },
   "file_extension": ".py",
   "mimetype": "text/x-python",
   "name": "python",
   "nbconvert_exporter": "python",
   "pygments_lexer": "ipython3",
   "version": "3.11.5"
  }
 },
 "nbformat": 4,
 "nbformat_minor": 2
}
